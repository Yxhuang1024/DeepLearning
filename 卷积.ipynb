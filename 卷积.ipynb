{
 "cells": [
  {
   "cell_type": "markdown",
   "metadata": {},
   "source": [
    "# 卷积"
   ]
  },
  {
   "cell_type": "markdown",
   "metadata": {},
   "source": [
    "## 卷积运算\n",
    "\n",
    "### 1. 卷积\n",
    "\n",
    "![correlation](https://d2l.ai/_images/correlation.svg)\n",
    "\n",
    "$$\\begin{split}0\\times0+1\\times1+3\\times2+4\\times3=19,\\\\\n",
    "1\\times0+2\\times1+4\\times2+5\\times3=25,\\\\\n",
    "3\\times0+4\\times1+6\\times2+7\\times3=37,\\\\\n",
    "4\\times0+5\\times1+7\\times2+8\\times3=43.\\end{split}$$\n",
    "\n",
    "### 2. padding\n",
    "\n",
    "![conv-pad](https://d2l.ai/_images/conv-pad.svg)\n",
    "\n",
    "### 3. stride\n",
    "\n",
    "![](https://d2l.ai/_images/conv-stride.svg)\n",
    "\n",
    "### 4. 多通道输入\n",
    "\n",
    "![conv-multi-in](https://d2l.ai/_images/conv-multi-in.svg)\n",
    "\n",
    "\n",
    "### 5. 多通道输出\n",
    "\n",
    "![conv-1x1](https://d2l.ai/_images/conv-1x1.svg)"
   ]
  },
  {
   "cell_type": "markdown",
   "metadata": {},
   "source": [
    "## 卷积运算-->矩阵计算"
   ]
  },
  {
   "cell_type": "markdown",
   "metadata": {},
   "source": [
    "![conv1](figs/conv1.png)\n",
    "\n",
    "![conv2](figs/conv2.png)\n",
    "\n",
    "这个做法是卷积的一种实现方式，叫做im2col，caffe中是这么实现卷积计算的。\n",
    "\n",
    "**从这里我们可以很清楚的得知，卷积的优秀性质：局部连接、参数共享、结构保持等优点**"
   ]
  },
  {
   "cell_type": "markdown",
   "metadata": {},
   "source": [
    "## 卷积运算与全连接运算\n",
    "\n",
    "如果把卷积运算使用im2col的方法转化为矩阵运算的话，其实卷积运算和全连接运算是一样的，只不过参数的分布没那么密集，变成了稀疏的且是权值共享的参数矩阵而已。"
   ]
  },
  {
   "cell_type": "markdown",
   "metadata": {},
   "source": [
    "## 卷积运算结果的可视化"
   ]
  },
  {
   "cell_type": "markdown",
   "metadata": {},
   "source": [
    "![conv_vis1](figs/conv3.png)\n",
    "\n",
    "![conv_vis2](figs/conv4.png)\n",
    "\n",
    "![conv_vis3](figs/conv5.png)"
   ]
  },
  {
   "cell_type": "markdown",
   "metadata": {},
   "source": [
    "## 卷积的性质\n",
    "\n",
    "1. 平移不变形（strides == 1）\n",
    "2. 平稳性（线性滤波器，相似的输入有相似的输出）"
   ]
  },
  {
   "cell_type": "markdown",
   "metadata": {},
   "source": [
    "## 总结\n",
    "\n",
    "1. 卷积如果用在特征提取上，那么它就是一种特征提取的方式，当然全连接也是。\n",
    "2. 卷积如果用在分类上，则也可以是一种线性分类器，和全连接一样。\n",
    "3. 因为有了反向传播算法，可以根据数据和损失函数，端到端地优化初始化的卷积参数，因此可以智能的根据特定的任务学习提取和该任务相关的特征，且由于其优良的性质，在图像、语音等领域获得了很广泛的应用。"
   ]
  },
  {
   "cell_type": "code",
   "execution_count": null,
   "metadata": {},
   "outputs": [],
   "source": []
  }
 ],
 "metadata": {
  "kernelspec": {
   "display_name": "Python 3",
   "language": "python",
   "name": "python3"
  },
  "language_info": {
   "codemirror_mode": {
    "name": "ipython",
    "version": 3
   },
   "file_extension": ".py",
   "mimetype": "text/x-python",
   "name": "python",
   "nbconvert_exporter": "python",
   "pygments_lexer": "ipython3",
   "version": "3.6.9"
  }
 },
 "nbformat": 4,
 "nbformat_minor": 4
}
